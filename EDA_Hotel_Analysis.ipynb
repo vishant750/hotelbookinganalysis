{
  "nbformat": 4,
  "nbformat_minor": 0,
  "metadata": {
    "colab": {
      "provenance": [],
      "authorship_tag": "ABX9TyNIeyT4rI6ZocAzYjkN9k+J",
      "include_colab_link": true
    },
    "kernelspec": {
      "name": "python3",
      "display_name": "Python 3"
    },
    "language_info": {
      "name": "python"
    }
  },
  "cells": [
    {
      "cell_type": "markdown",
      "metadata": {
        "id": "view-in-github",
        "colab_type": "text"
      },
      "source": [
        "<a href=\"https://colab.research.google.com/github/vishant750/hotelbookinganalysis/blob/main/EDA_Hotel_Analysis.ipynb\" target=\"_parent\"><img src=\"https://colab.research.google.com/assets/colab-badge.svg\" alt=\"Open In Colab\"/></a>"
      ]
    },
    {
      "cell_type": "markdown",
      "source": [
        "# **Project Name - Telecom Churn Analysis**"
      ],
      "metadata": {
        "id": "M2ZXokU99nb9"
      }
    },
    {
      "cell_type": "markdown",
      "source": [
        "Project Type - EDA\n",
        "\n",
        "Contribution - Individual\n",
        "\n",
        "Individual Name - Vishant Kumar"
      ],
      "metadata": {
        "id": "EBf-VQBQ94-J"
      }
    }
  ]
}